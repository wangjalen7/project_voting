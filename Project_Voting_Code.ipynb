{
  "nbformat": 4,
  "nbformat_minor": 0,
  "metadata": {
    "colab": {
      "provenance": [],
      "authorship_tag": "ABX9TyOeCJ5x7rvgZ8FjHGGIEfn7",
      "include_colab_link": true
    },
    "kernelspec": {
      "name": "python3",
      "display_name": "Python 3"
    },
    "language_info": {
      "name": "python"
    }
  },
  "cells": [
    {
      "cell_type": "markdown",
      "metadata": {
        "id": "view-in-github",
        "colab_type": "text"
      },
      "source": [
        "<a href=\"https://colab.research.google.com/github/wangjalen7/project_voting/blob/main/Project_Voting_Code.ipynb\" target=\"_parent\"><img src=\"https://colab.research.google.com/assets/colab-badge.svg\" alt=\"Open In Colab\"/></a>"
      ]
    },
    {
      "cell_type": "markdown",
      "source": [
        "# Jalen's Model"
      ],
      "metadata": {
        "id": "SgT-B6qVdn6H"
      }
    },
    {
      "cell_type": "markdown",
      "source": [
        "## Data Cleaning and Visualization"
      ],
      "metadata": {
        "id": "bbj2h7Judr9t"
      }
    },
    {
      "cell_type": "code",
      "source": [
        "import pandas as pd\n",
        "\n",
        "# Load the voting data\n",
        "voting_data_path = './data/voting_VA.csv'\n",
        "voting_data = pd.read_csv(voting_data_path)\n",
        "\n",
        "# Display the first few rows of the voting data to understand its structure\n",
        "voting_data.head()\n"
      ],
      "metadata": {
        "colab": {
          "base_uri": "https://localhost:8080/",
          "height": 206
        },
        "id": "VNR6P9-gd4TI",
        "outputId": "aa640454-3529-4875-d80c-f00f07766e88"
      },
      "execution_count": 9,
      "outputs": [
        {
          "output_type": "execute_result",
          "data": {
            "text/plain": [
              "   Unnamed: 0  year     state state_po county_name  county_fips        office  \\\n",
              "0       11161  2000  VIRGINIA       VA    ACCOMACK        51001  US PRESIDENT   \n",
              "1       11162  2000  VIRGINIA       VA    ACCOMACK        51001  US PRESIDENT   \n",
              "2       11163  2000  VIRGINIA       VA    ACCOMACK        51001  US PRESIDENT   \n",
              "3       11164  2000  VIRGINIA       VA    ACCOMACK        51001  US PRESIDENT   \n",
              "4       11165  2000  VIRGINIA       VA   ALBEMARLE        51003  US PRESIDENT   \n",
              "\n",
              "        candidate       party  candidatevotes  totalvotes   version   mode  \n",
              "0         AL GORE    DEMOCRAT            5092       11925  20220315  TOTAL  \n",
              "1  GEORGE W. BUSH  REPUBLICAN            6352       11925  20220315  TOTAL  \n",
              "2     RALPH NADER       GREEN             220       11925  20220315  TOTAL  \n",
              "3           OTHER       OTHER             261       11925  20220315  TOTAL  \n",
              "4         AL GORE    DEMOCRAT           16255       36846  20220315  TOTAL  "
            ],
            "text/html": [
              "\n",
              "  <div id=\"df-1b79c5cf-c8d3-4ad8-82e8-696292fc3cf3\" class=\"colab-df-container\">\n",
              "    <div>\n",
              "<style scoped>\n",
              "    .dataframe tbody tr th:only-of-type {\n",
              "        vertical-align: middle;\n",
              "    }\n",
              "\n",
              "    .dataframe tbody tr th {\n",
              "        vertical-align: top;\n",
              "    }\n",
              "\n",
              "    .dataframe thead th {\n",
              "        text-align: right;\n",
              "    }\n",
              "</style>\n",
              "<table border=\"1\" class=\"dataframe\">\n",
              "  <thead>\n",
              "    <tr style=\"text-align: right;\">\n",
              "      <th></th>\n",
              "      <th>Unnamed: 0</th>\n",
              "      <th>year</th>\n",
              "      <th>state</th>\n",
              "      <th>state_po</th>\n",
              "      <th>county_name</th>\n",
              "      <th>county_fips</th>\n",
              "      <th>office</th>\n",
              "      <th>candidate</th>\n",
              "      <th>party</th>\n",
              "      <th>candidatevotes</th>\n",
              "      <th>totalvotes</th>\n",
              "      <th>version</th>\n",
              "      <th>mode</th>\n",
              "    </tr>\n",
              "  </thead>\n",
              "  <tbody>\n",
              "    <tr>\n",
              "      <th>0</th>\n",
              "      <td>11161</td>\n",
              "      <td>2000</td>\n",
              "      <td>VIRGINIA</td>\n",
              "      <td>VA</td>\n",
              "      <td>ACCOMACK</td>\n",
              "      <td>51001</td>\n",
              "      <td>US PRESIDENT</td>\n",
              "      <td>AL GORE</td>\n",
              "      <td>DEMOCRAT</td>\n",
              "      <td>5092</td>\n",
              "      <td>11925</td>\n",
              "      <td>20220315</td>\n",
              "      <td>TOTAL</td>\n",
              "    </tr>\n",
              "    <tr>\n",
              "      <th>1</th>\n",
              "      <td>11162</td>\n",
              "      <td>2000</td>\n",
              "      <td>VIRGINIA</td>\n",
              "      <td>VA</td>\n",
              "      <td>ACCOMACK</td>\n",
              "      <td>51001</td>\n",
              "      <td>US PRESIDENT</td>\n",
              "      <td>GEORGE W. BUSH</td>\n",
              "      <td>REPUBLICAN</td>\n",
              "      <td>6352</td>\n",
              "      <td>11925</td>\n",
              "      <td>20220315</td>\n",
              "      <td>TOTAL</td>\n",
              "    </tr>\n",
              "    <tr>\n",
              "      <th>2</th>\n",
              "      <td>11163</td>\n",
              "      <td>2000</td>\n",
              "      <td>VIRGINIA</td>\n",
              "      <td>VA</td>\n",
              "      <td>ACCOMACK</td>\n",
              "      <td>51001</td>\n",
              "      <td>US PRESIDENT</td>\n",
              "      <td>RALPH NADER</td>\n",
              "      <td>GREEN</td>\n",
              "      <td>220</td>\n",
              "      <td>11925</td>\n",
              "      <td>20220315</td>\n",
              "      <td>TOTAL</td>\n",
              "    </tr>\n",
              "    <tr>\n",
              "      <th>3</th>\n",
              "      <td>11164</td>\n",
              "      <td>2000</td>\n",
              "      <td>VIRGINIA</td>\n",
              "      <td>VA</td>\n",
              "      <td>ACCOMACK</td>\n",
              "      <td>51001</td>\n",
              "      <td>US PRESIDENT</td>\n",
              "      <td>OTHER</td>\n",
              "      <td>OTHER</td>\n",
              "      <td>261</td>\n",
              "      <td>11925</td>\n",
              "      <td>20220315</td>\n",
              "      <td>TOTAL</td>\n",
              "    </tr>\n",
              "    <tr>\n",
              "      <th>4</th>\n",
              "      <td>11165</td>\n",
              "      <td>2000</td>\n",
              "      <td>VIRGINIA</td>\n",
              "      <td>VA</td>\n",
              "      <td>ALBEMARLE</td>\n",
              "      <td>51003</td>\n",
              "      <td>US PRESIDENT</td>\n",
              "      <td>AL GORE</td>\n",
              "      <td>DEMOCRAT</td>\n",
              "      <td>16255</td>\n",
              "      <td>36846</td>\n",
              "      <td>20220315</td>\n",
              "      <td>TOTAL</td>\n",
              "    </tr>\n",
              "  </tbody>\n",
              "</table>\n",
              "</div>\n",
              "    <div class=\"colab-df-buttons\">\n",
              "\n",
              "  <div class=\"colab-df-container\">\n",
              "    <button class=\"colab-df-convert\" onclick=\"convertToInteractive('df-1b79c5cf-c8d3-4ad8-82e8-696292fc3cf3')\"\n",
              "            title=\"Convert this dataframe to an interactive table.\"\n",
              "            style=\"display:none;\">\n",
              "\n",
              "  <svg xmlns=\"http://www.w3.org/2000/svg\" height=\"24px\" viewBox=\"0 -960 960 960\">\n",
              "    <path d=\"M120-120v-720h720v720H120Zm60-500h600v-160H180v160Zm220 220h160v-160H400v160Zm0 220h160v-160H400v160ZM180-400h160v-160H180v160Zm440 0h160v-160H620v160ZM180-180h160v-160H180v160Zm440 0h160v-160H620v160Z\"/>\n",
              "  </svg>\n",
              "    </button>\n",
              "\n",
              "  <style>\n",
              "    .colab-df-container {\n",
              "      display:flex;\n",
              "      gap: 12px;\n",
              "    }\n",
              "\n",
              "    .colab-df-convert {\n",
              "      background-color: #E8F0FE;\n",
              "      border: none;\n",
              "      border-radius: 50%;\n",
              "      cursor: pointer;\n",
              "      display: none;\n",
              "      fill: #1967D2;\n",
              "      height: 32px;\n",
              "      padding: 0 0 0 0;\n",
              "      width: 32px;\n",
              "    }\n",
              "\n",
              "    .colab-df-convert:hover {\n",
              "      background-color: #E2EBFA;\n",
              "      box-shadow: 0px 1px 2px rgba(60, 64, 67, 0.3), 0px 1px 3px 1px rgba(60, 64, 67, 0.15);\n",
              "      fill: #174EA6;\n",
              "    }\n",
              "\n",
              "    .colab-df-buttons div {\n",
              "      margin-bottom: 4px;\n",
              "    }\n",
              "\n",
              "    [theme=dark] .colab-df-convert {\n",
              "      background-color: #3B4455;\n",
              "      fill: #D2E3FC;\n",
              "    }\n",
              "\n",
              "    [theme=dark] .colab-df-convert:hover {\n",
              "      background-color: #434B5C;\n",
              "      box-shadow: 0px 1px 3px 1px rgba(0, 0, 0, 0.15);\n",
              "      filter: drop-shadow(0px 1px 2px rgba(0, 0, 0, 0.3));\n",
              "      fill: #FFFFFF;\n",
              "    }\n",
              "  </style>\n",
              "\n",
              "    <script>\n",
              "      const buttonEl =\n",
              "        document.querySelector('#df-1b79c5cf-c8d3-4ad8-82e8-696292fc3cf3 button.colab-df-convert');\n",
              "      buttonEl.style.display =\n",
              "        google.colab.kernel.accessAllowed ? 'block' : 'none';\n",
              "\n",
              "      async function convertToInteractive(key) {\n",
              "        const element = document.querySelector('#df-1b79c5cf-c8d3-4ad8-82e8-696292fc3cf3');\n",
              "        const dataTable =\n",
              "          await google.colab.kernel.invokeFunction('convertToInteractive',\n",
              "                                                    [key], {});\n",
              "        if (!dataTable) return;\n",
              "\n",
              "        const docLinkHtml = 'Like what you see? Visit the ' +\n",
              "          '<a target=\"_blank\" href=https://colab.research.google.com/notebooks/data_table.ipynb>data table notebook</a>'\n",
              "          + ' to learn more about interactive tables.';\n",
              "        element.innerHTML = '';\n",
              "        dataTable['output_type'] = 'display_data';\n",
              "        await google.colab.output.renderOutput(dataTable, element);\n",
              "        const docLink = document.createElement('div');\n",
              "        docLink.innerHTML = docLinkHtml;\n",
              "        element.appendChild(docLink);\n",
              "      }\n",
              "    </script>\n",
              "  </div>\n",
              "\n",
              "\n",
              "<div id=\"df-6a0b8897-0aaf-4a9d-a798-0dd04770977e\">\n",
              "  <button class=\"colab-df-quickchart\" onclick=\"quickchart('df-6a0b8897-0aaf-4a9d-a798-0dd04770977e')\"\n",
              "            title=\"Suggest charts\"\n",
              "            style=\"display:none;\">\n",
              "\n",
              "<svg xmlns=\"http://www.w3.org/2000/svg\" height=\"24px\"viewBox=\"0 0 24 24\"\n",
              "     width=\"24px\">\n",
              "    <g>\n",
              "        <path d=\"M19 3H5c-1.1 0-2 .9-2 2v14c0 1.1.9 2 2 2h14c1.1 0 2-.9 2-2V5c0-1.1-.9-2-2-2zM9 17H7v-7h2v7zm4 0h-2V7h2v10zm4 0h-2v-4h2v4z\"/>\n",
              "    </g>\n",
              "</svg>\n",
              "  </button>\n",
              "\n",
              "<style>\n",
              "  .colab-df-quickchart {\n",
              "      --bg-color: #E8F0FE;\n",
              "      --fill-color: #1967D2;\n",
              "      --hover-bg-color: #E2EBFA;\n",
              "      --hover-fill-color: #174EA6;\n",
              "      --disabled-fill-color: #AAA;\n",
              "      --disabled-bg-color: #DDD;\n",
              "  }\n",
              "\n",
              "  [theme=dark] .colab-df-quickchart {\n",
              "      --bg-color: #3B4455;\n",
              "      --fill-color: #D2E3FC;\n",
              "      --hover-bg-color: #434B5C;\n",
              "      --hover-fill-color: #FFFFFF;\n",
              "      --disabled-bg-color: #3B4455;\n",
              "      --disabled-fill-color: #666;\n",
              "  }\n",
              "\n",
              "  .colab-df-quickchart {\n",
              "    background-color: var(--bg-color);\n",
              "    border: none;\n",
              "    border-radius: 50%;\n",
              "    cursor: pointer;\n",
              "    display: none;\n",
              "    fill: var(--fill-color);\n",
              "    height: 32px;\n",
              "    padding: 0;\n",
              "    width: 32px;\n",
              "  }\n",
              "\n",
              "  .colab-df-quickchart:hover {\n",
              "    background-color: var(--hover-bg-color);\n",
              "    box-shadow: 0 1px 2px rgba(60, 64, 67, 0.3), 0 1px 3px 1px rgba(60, 64, 67, 0.15);\n",
              "    fill: var(--button-hover-fill-color);\n",
              "  }\n",
              "\n",
              "  .colab-df-quickchart-complete:disabled,\n",
              "  .colab-df-quickchart-complete:disabled:hover {\n",
              "    background-color: var(--disabled-bg-color);\n",
              "    fill: var(--disabled-fill-color);\n",
              "    box-shadow: none;\n",
              "  }\n",
              "\n",
              "  .colab-df-spinner {\n",
              "    border: 2px solid var(--fill-color);\n",
              "    border-color: transparent;\n",
              "    border-bottom-color: var(--fill-color);\n",
              "    animation:\n",
              "      spin 1s steps(1) infinite;\n",
              "  }\n",
              "\n",
              "  @keyframes spin {\n",
              "    0% {\n",
              "      border-color: transparent;\n",
              "      border-bottom-color: var(--fill-color);\n",
              "      border-left-color: var(--fill-color);\n",
              "    }\n",
              "    20% {\n",
              "      border-color: transparent;\n",
              "      border-left-color: var(--fill-color);\n",
              "      border-top-color: var(--fill-color);\n",
              "    }\n",
              "    30% {\n",
              "      border-color: transparent;\n",
              "      border-left-color: var(--fill-color);\n",
              "      border-top-color: var(--fill-color);\n",
              "      border-right-color: var(--fill-color);\n",
              "    }\n",
              "    40% {\n",
              "      border-color: transparent;\n",
              "      border-right-color: var(--fill-color);\n",
              "      border-top-color: var(--fill-color);\n",
              "    }\n",
              "    60% {\n",
              "      border-color: transparent;\n",
              "      border-right-color: var(--fill-color);\n",
              "    }\n",
              "    80% {\n",
              "      border-color: transparent;\n",
              "      border-right-color: var(--fill-color);\n",
              "      border-bottom-color: var(--fill-color);\n",
              "    }\n",
              "    90% {\n",
              "      border-color: transparent;\n",
              "      border-bottom-color: var(--fill-color);\n",
              "    }\n",
              "  }\n",
              "</style>\n",
              "\n",
              "  <script>\n",
              "    async function quickchart(key) {\n",
              "      const quickchartButtonEl =\n",
              "        document.querySelector('#' + key + ' button');\n",
              "      quickchartButtonEl.disabled = true;  // To prevent multiple clicks.\n",
              "      quickchartButtonEl.classList.add('colab-df-spinner');\n",
              "      try {\n",
              "        const charts = await google.colab.kernel.invokeFunction(\n",
              "            'suggestCharts', [key], {});\n",
              "      } catch (error) {\n",
              "        console.error('Error during call to suggestCharts:', error);\n",
              "      }\n",
              "      quickchartButtonEl.classList.remove('colab-df-spinner');\n",
              "      quickchartButtonEl.classList.add('colab-df-quickchart-complete');\n",
              "    }\n",
              "    (() => {\n",
              "      let quickchartButtonEl =\n",
              "        document.querySelector('#df-6a0b8897-0aaf-4a9d-a798-0dd04770977e button');\n",
              "      quickchartButtonEl.style.display =\n",
              "        google.colab.kernel.accessAllowed ? 'block' : 'none';\n",
              "    })();\n",
              "  </script>\n",
              "</div>\n",
              "    </div>\n",
              "  </div>\n"
            ],
            "application/vnd.google.colaboratory.intrinsic+json": {
              "type": "dataframe",
              "variable_name": "voting_data",
              "summary": "{\n  \"name\": \"voting_data\",\n  \"rows\": 3736,\n  \"fields\": [\n    {\n      \"column\": \"Unnamed: 0\",\n      \"properties\": {\n        \"dtype\": \"number\",\n        \"std\": 23219,\n        \"min\": 11161,\n        \"max\": 71970,\n        \"num_unique_values\": 3736,\n        \"samples\": [\n          71489,\n          71623,\n          39746\n        ],\n        \"semantic_type\": \"\",\n        \"description\": \"\"\n      }\n    },\n    {\n      \"column\": \"year\",\n      \"properties\": {\n        \"dtype\": \"number\",\n        \"std\": 7,\n        \"min\": 2000,\n        \"max\": 2020,\n        \"num_unique_values\": 6,\n        \"samples\": [\n          2000,\n          2004,\n          2020\n        ],\n        \"semantic_type\": \"\",\n        \"description\": \"\"\n      }\n    },\n    {\n      \"column\": \"state\",\n      \"properties\": {\n        \"dtype\": \"category\",\n        \"num_unique_values\": 1,\n        \"samples\": [\n          \"VIRGINIA\"\n        ],\n        \"semantic_type\": \"\",\n        \"description\": \"\"\n      }\n    },\n    {\n      \"column\": \"state_po\",\n      \"properties\": {\n        \"dtype\": \"category\",\n        \"num_unique_values\": 1,\n        \"samples\": [\n          \"VA\"\n        ],\n        \"semantic_type\": \"\",\n        \"description\": \"\"\n      }\n    },\n    {\n      \"column\": \"county_name\",\n      \"properties\": {\n        \"dtype\": \"category\",\n        \"num_unique_values\": 167,\n        \"samples\": [\n          \"COVINGTON\"\n        ],\n        \"semantic_type\": \"\",\n        \"description\": \"\"\n      }\n    },\n    {\n      \"column\": \"county_fips\",\n      \"properties\": {\n        \"dtype\": \"number\",\n        \"std\": 270,\n        \"min\": 51001,\n        \"max\": 51840,\n        \"num_unique_values\": 134,\n        \"samples\": [\n          51775\n        ],\n        \"semantic_type\": \"\",\n        \"description\": \"\"\n      }\n    },\n    {\n      \"column\": \"office\",\n      \"properties\": {\n        \"dtype\": \"category\",\n        \"num_unique_values\": 1,\n        \"samples\": [\n          \"US PRESIDENT\"\n        ],\n        \"semantic_type\": \"\",\n        \"description\": \"\"\n      }\n    },\n    {\n      \"column\": \"candidate\",\n      \"properties\": {\n        \"dtype\": \"category\",\n        \"num_unique_values\": 13,\n        \"samples\": [\n          \"JO JORGENSEN\"\n        ],\n        \"semantic_type\": \"\",\n        \"description\": \"\"\n      }\n    },\n    {\n      \"column\": \"party\",\n      \"properties\": {\n        \"dtype\": \"category\",\n        \"num_unique_values\": 5,\n        \"samples\": [\n          \"REPUBLICAN\"\n        ],\n        \"semantic_type\": \"\",\n        \"description\": \"\"\n      }\n    },\n    {\n      \"column\": \"candidatevotes\",\n      \"properties\": {\n        \"dtype\": \"number\",\n        \"std\": 18452,\n        \"min\": 0,\n        \"max\": 355133,\n        \"num_unique_values\": 2226,\n        \"samples\": [\n          59\n        ],\n        \"semantic_type\": \"\",\n        \"description\": \"\"\n      }\n    },\n    {\n      \"column\": \"totalvotes\",\n      \"properties\": {\n        \"dtype\": \"number\",\n        \"std\": 58562,\n        \"min\": 0,\n        \"max\": 601243,\n        \"num_unique_values\": 796,\n        \"samples\": [\n          6178\n        ],\n        \"semantic_type\": \"\",\n        \"description\": \"\"\n      }\n    },\n    {\n      \"column\": \"version\",\n      \"properties\": {\n        \"dtype\": \"number\",\n        \"std\": 0,\n        \"min\": 20220315,\n        \"max\": 20220315,\n        \"num_unique_values\": 1,\n        \"samples\": [\n          20220315\n        ],\n        \"semantic_type\": \"\",\n        \"description\": \"\"\n      }\n    },\n    {\n      \"column\": \"mode\",\n      \"properties\": {\n        \"dtype\": \"category\",\n        \"num_unique_values\": 4,\n        \"samples\": [\n          \"ABSENTEE\"\n        ],\n        \"semantic_type\": \"\",\n        \"description\": \"\"\n      }\n    }\n  ]\n}"
            }
          },
          "metadata": {},
          "execution_count": 9
        }
      ]
    },
    {
      "cell_type": "code",
      "source": [
        "# Dropping irrelevant columns\n",
        "voting_data_clean = voting_data.drop(columns=['Unnamed: 0', 'state', 'state_po', 'office', 'version', 'mode'])\n",
        "\n",
        "# Check for missing values\n",
        "missing_values = voting_data_clean.isnull().sum()\n",
        "\n",
        "# Calculating net vote counts per county per election year\n",
        "# Filter to keep only Republican and Democrat votes for simplicity in calculating net vote count\n",
        "voting_data_filtered = voting_data_clean[voting_data_clean['party'].isin(['REPUBLICAN', 'DEMOCRAT'])]\n",
        "\n",
        "# Pivot table to reshape the data\n",
        "pivot_data = voting_data_filtered.pivot_table(index=['year', 'county_name', 'county_fips', 'totalvotes'],\n",
        "                                              columns='party', values='candidatevotes', aggfunc='sum').reset_index()\n",
        "\n",
        "# Calculate net vote count (Republican - Democrat)\n",
        "pivot_data['net_vote_count'] = pivot_data['REPUBLICAN'] - pivot_data['DEMOCRAT']\n",
        "\n",
        "# Check the processed data\n",
        "pivot_data.head(), missing_values\n"
      ],
      "metadata": {
        "colab": {
          "base_uri": "https://localhost:8080/"
        },
        "id": "KJWsa_voqNsO",
        "outputId": "f8143f54-b76b-4655-e362-9defedc504fb"
      },
      "execution_count": 15,
      "outputs": [
        {
          "output_type": "execute_result",
          "data": {
            "text/plain": [
              "(party  year county_name  county_fips  totalvotes  DEMOCRAT  REPUBLICAN  \\\n",
              " 0      2000    ACCOMACK        51001       11925      5092        6352   \n",
              " 1      2000   ALBEMARLE        51003       36846     16255       18291   \n",
              " 2      2000  ALEXANDRIA        51510       55199     33633       19043   \n",
              " 3      2000   ALLEGHANY        51005        5123      2214        2808   \n",
              " 4      2000      AMELIA        51007        4788      1754        2947   \n",
              " \n",
              " party  net_vote_count  \n",
              " 0                1260  \n",
              " 1                2036  \n",
              " 2              -14590  \n",
              " 3                 594  \n",
              " 4                1193  ,\n",
              " year              0\n",
              " county_name       0\n",
              " county_fips       0\n",
              " candidate         0\n",
              " party             0\n",
              " candidatevotes    0\n",
              " totalvotes        0\n",
              " dtype: int64)"
            ]
          },
          "metadata": {},
          "execution_count": 15
        }
      ]
    },
    {
      "cell_type": "code",
      "source": [],
      "metadata": {
        "id": "L0pC_-SSybgj"
      },
      "execution_count": null,
      "outputs": []
    },
    {
      "cell_type": "markdown",
      "source": [
        "## Model"
      ],
      "metadata": {
        "id": "6V24nYx0d0W-"
      }
    },
    {
      "cell_type": "code",
      "execution_count": 11,
      "metadata": {
        "colab": {
          "base_uri": "https://localhost:8080/",
          "height": 75
        },
        "id": "mWOSNH4wdXVb",
        "outputId": "b2b11ae4-e132-4f4c-eecb-397dcf87f03e"
      },
      "outputs": [
        {
          "output_type": "execute_result",
          "data": {
            "text/plain": [
              "LinearRegression()"
            ],
            "text/html": [
              "<style>#sk-container-id-3 {color: black;background-color: white;}#sk-container-id-3 pre{padding: 0;}#sk-container-id-3 div.sk-toggleable {background-color: white;}#sk-container-id-3 label.sk-toggleable__label {cursor: pointer;display: block;width: 100%;margin-bottom: 0;padding: 0.3em;box-sizing: border-box;text-align: center;}#sk-container-id-3 label.sk-toggleable__label-arrow:before {content: \"▸\";float: left;margin-right: 0.25em;color: #696969;}#sk-container-id-3 label.sk-toggleable__label-arrow:hover:before {color: black;}#sk-container-id-3 div.sk-estimator:hover label.sk-toggleable__label-arrow:before {color: black;}#sk-container-id-3 div.sk-toggleable__content {max-height: 0;max-width: 0;overflow: hidden;text-align: left;background-color: #f0f8ff;}#sk-container-id-3 div.sk-toggleable__content pre {margin: 0.2em;color: black;border-radius: 0.25em;background-color: #f0f8ff;}#sk-container-id-3 input.sk-toggleable__control:checked~div.sk-toggleable__content {max-height: 200px;max-width: 100%;overflow: auto;}#sk-container-id-3 input.sk-toggleable__control:checked~label.sk-toggleable__label-arrow:before {content: \"▾\";}#sk-container-id-3 div.sk-estimator input.sk-toggleable__control:checked~label.sk-toggleable__label {background-color: #d4ebff;}#sk-container-id-3 div.sk-label input.sk-toggleable__control:checked~label.sk-toggleable__label {background-color: #d4ebff;}#sk-container-id-3 input.sk-hidden--visually {border: 0;clip: rect(1px 1px 1px 1px);clip: rect(1px, 1px, 1px, 1px);height: 1px;margin: -1px;overflow: hidden;padding: 0;position: absolute;width: 1px;}#sk-container-id-3 div.sk-estimator {font-family: monospace;background-color: #f0f8ff;border: 1px dotted black;border-radius: 0.25em;box-sizing: border-box;margin-bottom: 0.5em;}#sk-container-id-3 div.sk-estimator:hover {background-color: #d4ebff;}#sk-container-id-3 div.sk-parallel-item::after {content: \"\";width: 100%;border-bottom: 1px solid gray;flex-grow: 1;}#sk-container-id-3 div.sk-label:hover label.sk-toggleable__label {background-color: #d4ebff;}#sk-container-id-3 div.sk-serial::before {content: \"\";position: absolute;border-left: 1px solid gray;box-sizing: border-box;top: 0;bottom: 0;left: 50%;z-index: 0;}#sk-container-id-3 div.sk-serial {display: flex;flex-direction: column;align-items: center;background-color: white;padding-right: 0.2em;padding-left: 0.2em;position: relative;}#sk-container-id-3 div.sk-item {position: relative;z-index: 1;}#sk-container-id-3 div.sk-parallel {display: flex;align-items: stretch;justify-content: center;background-color: white;position: relative;}#sk-container-id-3 div.sk-item::before, #sk-container-id-3 div.sk-parallel-item::before {content: \"\";position: absolute;border-left: 1px solid gray;box-sizing: border-box;top: 0;bottom: 0;left: 50%;z-index: -1;}#sk-container-id-3 div.sk-parallel-item {display: flex;flex-direction: column;z-index: 1;position: relative;background-color: white;}#sk-container-id-3 div.sk-parallel-item:first-child::after {align-self: flex-end;width: 50%;}#sk-container-id-3 div.sk-parallel-item:last-child::after {align-self: flex-start;width: 50%;}#sk-container-id-3 div.sk-parallel-item:only-child::after {width: 0;}#sk-container-id-3 div.sk-dashed-wrapped {border: 1px dashed gray;margin: 0 0.4em 0.5em 0.4em;box-sizing: border-box;padding-bottom: 0.4em;background-color: white;}#sk-container-id-3 div.sk-label label {font-family: monospace;font-weight: bold;display: inline-block;line-height: 1.2em;}#sk-container-id-3 div.sk-label-container {text-align: center;}#sk-container-id-3 div.sk-container {/* jupyter's `normalize.less` sets `[hidden] { display: none; }` but bootstrap.min.css set `[hidden] { display: none !important; }` so we also need the `!important` here to be able to override the default hidden behavior on the sphinx rendered scikit-learn.org. See: https://github.com/scikit-learn/scikit-learn/issues/21755 */display: inline-block !important;position: relative;}#sk-container-id-3 div.sk-text-repr-fallback {display: none;}</style><div id=\"sk-container-id-3\" class=\"sk-top-container\"><div class=\"sk-text-repr-fallback\"><pre>LinearRegression()</pre><b>In a Jupyter environment, please rerun this cell to show the HTML representation or trust the notebook. <br />On GitHub, the HTML representation is unable to render, please try loading this page with nbviewer.org.</b></div><div class=\"sk-container\" hidden><div class=\"sk-item\"><div class=\"sk-estimator sk-toggleable\"><input class=\"sk-toggleable__control sk-hidden--visually\" id=\"sk-estimator-id-3\" type=\"checkbox\" checked><label for=\"sk-estimator-id-3\" class=\"sk-toggleable__label sk-toggleable__label-arrow\">LinearRegression</label><div class=\"sk-toggleable__content\"><pre>LinearRegression()</pre></div></div></div></div></div>"
            ]
          },
          "metadata": {},
          "execution_count": 11
        }
      ],
      "source": [
        "from sklearn.model_selection import train_test_split\n",
        "from sklearn.linear_model import LinearRegression\n",
        "\n",
        "X = pivot_data[['net_votes']]\n",
        "y = pivot_data['net_votes_ihs']\n",
        "X_train, X_test, y_train, y_test = train_test_split(X, y, test_size=0.2, random_state=42)\n",
        "model = LinearRegression()\n",
        "model.fit(X_train, y_train)\n"
      ]
    },
    {
      "cell_type": "code",
      "source": [
        "from sklearn.metrics import mean_squared_error, r2_score\n",
        "y_pred = model.predict(X_test)\n",
        "rmse = np.sqrt(mean_squared_error(y_test, y_pred))\n",
        "r2 = r2_score(y_test, y_pred)\n",
        "\n",
        "rmse, r2"
      ],
      "metadata": {
        "colab": {
          "base_uri": "https://localhost:8080/"
        },
        "id": "EWdBqU9MwxVY",
        "outputId": "627e84c2-2e37-4af3-c41e-b5287694de31"
      },
      "execution_count": 12,
      "outputs": [
        {
          "output_type": "execute_result",
          "data": {
            "text/plain": [
              "(6.295284246708634, 0.33795797437067276)"
            ]
          },
          "metadata": {},
          "execution_count": 12
        }
      ]
    },
    {
      "cell_type": "code",
      "source": [
        "# Load the primary election data files to examine their structure\n",
        "primary_dem_path = './data/Election Results_5163e1ce-994b-48ff-82c3-31a7c5f44f10.csv'\n",
        "primary_rep_path = './data/Election Results_16805bde-45f1-4e80-b623-4e8730c5250a.csv'\n",
        "\n",
        "# Read the files\n",
        "primary_dem_data = pd.read_csv(primary_dem_path)\n",
        "primary_rep_data = pd.read_csv(primary_rep_path)\n",
        "\n",
        "# Display the first few rows of each dataset to understand their structure\n",
        "(primary_dem_data.head(), primary_rep_data.head())\n"
      ],
      "metadata": {
        "id": "MBFXZ81fvbvI"
      },
      "execution_count": null,
      "outputs": []
    },
    {
      "cell_type": "code",
      "source": [
        "dem_votes = primary_dem_data.groupby('LocalityName')['TOTAL_VOTES'].sum().reset_index()\n",
        "rep_votes = primary_rep_data.groupby('LocalityName')['TOTAL_VOTES'].sum().reset_index()\n",
        "primary_results = pd.merge(dem_votes, rep_votes, on='LocalityName', suffixes=('_dem', '_rep'))\n",
        "primary_results['net_votes_primary'] = primary_results['TOTAL_VOTES_rep'] - primary_results['TOTAL_VOTES_dem']\n"
      ],
      "metadata": {
        "id": "yUHVBVgVxKcH"
      },
      "execution_count": 13,
      "outputs": []
    }
  ]
}